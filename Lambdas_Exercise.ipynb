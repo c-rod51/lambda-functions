{
 "cells": [
  {
   "cell_type": "markdown",
   "id": "1b3ed63c",
   "metadata": {},
   "source": [
    "# Exercise: Lambda Functions with Map, Reduce, and Filter on Files\n",
    "\n",
    "## Part 1: Model the Detroit Police Population\n",
    "Read in the data from the Detroit Police Reports file using the CSVREADER and translate this into a list of dictionaries. Using Filter with lambda functions to exclude dictionaries (rows of the CSV) that have missing data in the Zip, or Neighborhood columns. Using lambda functions and Reduce, calculate the average total response time, the average dispatch time, and average total time for the Detroit Police force."
   ]
  },
  {
   "cell_type": "code",
   "execution_count": 5,
   "id": "a4220a51",
   "metadata": {},
   "outputs": [],
   "source": [
    "import csv\n",
    "from functools import reduce"
   ]
  },
  {
   "cell_type": "code",
   "execution_count": 2,
   "id": "4cf72ab4",
   "metadata": {},
   "outputs": [],
   "source": [
    "with open('911_Calls_for_Service_(Last_30_Days).csv', newline='') as csvfile:\n",
    "    callreader = csv.DictReader(csvfile)\n",
    "    call_list = list(callreader)"
   ]
  },
  {
   "cell_type": "code",
   "execution_count": null,
   "id": "74d83081",
   "metadata": {},
   "outputs": [],
   "source": [
    "[call_list[i]['zip_code'] for i in range(len(call_list))]"
   ]
  },
  {
   "cell_type": "code",
   "execution_count": 3,
   "id": "d5fe5188",
   "metadata": {},
   "outputs": [],
   "source": [
    "filtered_zip = list(filter(lambda x : x['zip_code'] != '0' and x['neighborhood'] != '', call_list))"
   ]
  },
  {
   "cell_type": "code",
   "execution_count": 25,
   "id": "f3583c27",
   "metadata": {},
   "outputs": [],
   "source": [
    "filtered_response_time = list(filter(lambda x : x['totalresponsetime'] != '', filtered_zip))"
   ]
  },
  {
   "cell_type": "code",
   "execution_count": 26,
   "id": "e4065f85",
   "metadata": {},
   "outputs": [],
   "source": [
    "#response_times = [float(filtered_response_time[i]['totalresponsetime']) for i in range(len(filtered_response_time))]"
   ]
  },
  {
   "cell_type": "code",
   "execution_count": 41,
   "id": "86de50e1",
   "metadata": {},
   "outputs": [],
   "source": [
    "total_response_time = reduce(lambda aggValue, nextrowVal : aggValue + float(nextrowVal['totalresponsetime']), filtered_response_time, 0)"
   ]
  },
  {
   "cell_type": "code",
   "execution_count": 42,
   "id": "e79a5556",
   "metadata": {},
   "outputs": [
    {
     "name": "stdout",
     "output_type": "stream",
     "text": [
      "14.674011568465367\n"
     ]
    }
   ],
   "source": [
    "avg_response_time = total_response_time / len(filtered_response_time)\n",
    "print(avg_response_time)"
   ]
  },
  {
   "cell_type": "code",
   "execution_count": 29,
   "id": "c0053e28",
   "metadata": {},
   "outputs": [],
   "source": [
    "filtered_dispatch_time = list(filter(lambda x : x['dispatchtime'] != '', filtered_zip))"
   ]
  },
  {
   "cell_type": "code",
   "execution_count": 30,
   "id": "359f1408",
   "metadata": {},
   "outputs": [],
   "source": [
    "dispatch_times = [float(filtered_dispatch_time[i]['dispatchtime']) for i in range(len(filtered_dispatch_time))]"
   ]
  },
  {
   "cell_type": "code",
   "execution_count": 31,
   "id": "773d1923",
   "metadata": {},
   "outputs": [],
   "source": [
    "total_dispatch_time = reduce(lambda distime1, distime2 : distime1 + distime2, dispatch_times)"
   ]
  },
  {
   "cell_type": "code",
   "execution_count": 33,
   "id": "f41527f0",
   "metadata": {},
   "outputs": [
    {
     "name": "stdout",
     "output_type": "stream",
     "text": [
      "10.846555035161105\n"
     ]
    }
   ],
   "source": [
    "avg_dispatch_time = total_dispatch_time / len(dispatch_times)\n",
    "\n",
    "print(avg_dispatch_time)"
   ]
  },
  {
   "cell_type": "code",
   "execution_count": 34,
   "id": "0c76447e",
   "metadata": {},
   "outputs": [],
   "source": [
    "filtered_total_time = list(filter(lambda x : x['totaltime'] != '', filtered_zip))"
   ]
  },
  {
   "cell_type": "code",
   "execution_count": 37,
   "id": "7cf0e4c0",
   "metadata": {},
   "outputs": [],
   "source": [
    "total_times = [float(filtered_total_time[i]['totaltime']) for i in range(len(filtered_total_time))]"
   ]
  },
  {
   "cell_type": "code",
   "execution_count": 38,
   "id": "1019b1ff",
   "metadata": {},
   "outputs": [],
   "source": [
    "total_total_time = reduce(lambda tottime1, tottime2 : tottime1 + tottime2, total_times)"
   ]
  },
  {
   "cell_type": "code",
   "execution_count": 40,
   "id": "8101ea5a",
   "metadata": {},
   "outputs": [
    {
     "name": "stdout",
     "output_type": "stream",
     "text": [
      "38.75091916603188\n"
     ]
    }
   ],
   "source": [
    "avg_total_time = total_total_time / len(total_times)\n",
    "\n",
    "print(avg_total_time)"
   ]
  },
  {
   "cell_type": "markdown",
   "id": "dd7b1206",
   "metadata": {},
   "source": [
    "## Part 2: Model the Neighborhood Samples\n",
    "\n",
    "Using lambda and Map functions, or lambda and Filter, divide the list of dictionaries into smaller lists of dictionaries separated by neighborhood. Using lambda and Reduce, find the average total response time for each neighborhood, the average dispatch time for each neighborhood, and the average total time for each neighborhood and store this into a list of dictionaries. Add a dictionary item to include the population data for all of Detroit in your combined list."
   ]
  },
  {
   "cell_type": "code",
   "execution_count": null,
   "id": "6c579190",
   "metadata": {},
   "outputs": [],
   "source": []
  }
 ],
 "metadata": {
  "kernelspec": {
   "display_name": "Python 3 (ipykernel)",
   "language": "python",
   "name": "python3"
  },
  "language_info": {
   "codemirror_mode": {
    "name": "ipython",
    "version": 3
   },
   "file_extension": ".py",
   "mimetype": "text/x-python",
   "name": "python",
   "nbconvert_exporter": "python",
   "pygments_lexer": "ipython3",
   "version": "3.9.12"
  }
 },
 "nbformat": 4,
 "nbformat_minor": 5
}
